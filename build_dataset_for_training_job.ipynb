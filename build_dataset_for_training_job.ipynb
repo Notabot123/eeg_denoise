{
 "cells": [
  {
   "cell_type": "markdown",
   "id": "f90b394f-e801-41b7-8106-0385ff751931",
   "metadata": {},
   "source": [
    "OK.\n",
    "We need our data in S3 to have subdirectory train/test/val.\n",
    "\n",
    "We shall have to create a static dataset (not dynamically creating artefacts as before) - It would be advised to at least create a larger dataset in this case in a real-world problem."
   ]
  },
  {
   "cell_type": "code",
   "execution_count": 1,
   "id": "affefbb4-e118-4fd4-a4ed-b332388d371e",
   "metadata": {},
   "outputs": [
    {
     "name": "stdout",
     "output_type": "stream",
     "text": [
      "EEG: (4514, 512), EOG: (3400, 512)\n",
      "std of EEG: 228.55191045728395\n",
      "std of EOG: 154.4631755259437\n",
      "Done preparing local dataset.\n"
     ]
    }
   ],
   "source": [
    "import os\n",
    "import numpy as np\n",
    "import scipy.io\n",
    "from sklearn.model_selection import train_test_split\n",
    "\n",
    "# Config\n",
    "seq_len = 512\n",
    "num_samples = 3000  # total synthetic samples to generate\n",
    "snr_db_range = (-5, 5)\n",
    "split = [0.8, 0.1, 0.1]\n",
    "\n",
    "output_dir = \"eeg_prepared_dataset\"\n",
    "os.makedirs(output_dir, exist_ok=True)\n",
    "\n",
    "# Load .mat files\n",
    "eeg_mat = scipy.io.loadmat(\"eeg_data_from_s3/EEG_all_epochs.mat\")['EEG_all_epochs']\n",
    "eog_mat = scipy.io.loadmat(\"eeg_data_from_s3/EOG_all_epochs.mat\")['EOG_all_epochs']\n",
    "\n",
    "print(f\"EEG: {eeg_mat.shape}, EOG: {eog_mat.shape}\")\n",
    "\n",
    "# recall std for reversing normalisation if rqd\n",
    "print(f\"std of EEG: {np.std(eeg_mat)}\")\n",
    "print(f\"std of EOG: {np.std(eog_mat)}\")\n",
    "\n",
    "# Normalize\n",
    "eeg_mat = eeg_mat / np.std(eeg_mat)\n",
    "eog_mat = eog_mat / np.std(eog_mat)\n",
    "\n",
    "# Build clean/noisy pairs\n",
    "clean_samples = []\n",
    "noisy_samples = []\n",
    "\n",
    "for _ in range(num_samples):\n",
    "    eeg = eeg_mat[np.random.randint(eeg_mat.shape[0])]\n",
    "    eog = eog_mat[np.random.randint(eog_mat.shape[0])]\n",
    "\n",
    "    \"\"\"\n",
    "    # Random crop - if we had larger sequences maybe.\n",
    "    start_idx = np.random.randint(0, min(len(eeg), len(eog)) - seq_len)\n",
    "    clean = eeg[start_idx : start_idx + seq_len]\n",
    "    noise = eog[start_idx : start_idx + seq_len]\n",
    "    \"\"\"\n",
    "    clean = eeg\n",
    "    noise = eog\n",
    "\n",
    "    # Mix with SNR\n",
    "    snr_db = np.random.uniform(*snr_db_range)\n",
    "    signal_power = np.mean(clean ** 2)\n",
    "    noise_power = signal_power / (10 ** (snr_db / 10))\n",
    "    scale = np.sqrt(noise_power / np.mean(noise ** 2))\n",
    "    noisy = clean + scale * noise\n",
    "\n",
    "    clean_samples.append(clean[:, np.newaxis])\n",
    "    noisy_samples.append(noisy[:, np.newaxis])\n",
    "\n",
    "clean_samples = np.array(clean_samples)\n",
    "noisy_samples = np.array(noisy_samples)\n",
    "\n",
    "# Split into train/val/test\n",
    "train_X, temp_X, train_y, temp_y = train_test_split(noisy_samples, clean_samples, test_size=1 - split[0])\n",
    "val_X, test_X, val_y, test_y = train_test_split(temp_X, temp_y, test_size=split[2] / (split[1] + split[2]))\n",
    "\n",
    "# Save as .npz files\n",
    "def save_split(X, y, folder):\n",
    "    path = os.path.join(output_dir, folder)\n",
    "    os.makedirs(path, exist_ok=True)\n",
    "    for i, (noisy, clean) in enumerate(zip(X, y)):\n",
    "        np.savez(os.path.join(path, f\"sample_{i:04d}.npz\"), noisy=noisy, clean=clean)\n",
    "\n",
    "save_split(train_X, train_y, \"train\")\n",
    "save_split(val_X, val_y, \"val\")\n",
    "save_split(test_X, test_y, \"test\")\n",
    "\n",
    "print(\"Done preparing local dataset.\")\n"
   ]
  },
  {
   "cell_type": "code",
   "execution_count": 2,
   "id": "bb9c1222-d10f-4f14-ae55-31029a30eeba",
   "metadata": {},
   "outputs": [
    {
     "name": "stderr",
     "output_type": "stream",
     "text": [
      "/opt/conda/lib/python3.12/site-packages/pydantic/_internal/_fields.py:192: UserWarning: Field name \"json\" in \"MonitoringDatasetFormat\" shadows an attribute in parent \"Base\"\n",
      "  warnings.warn(\n"
     ]
    },
    {
     "name": "stdout",
     "output_type": "stream",
     "text": [
      "sagemaker.config INFO - Not applying SDK defaults from location: /etc/xdg/sagemaker/config.yaml\n",
      "sagemaker.config INFO - Not applying SDK defaults from location: /home/sagemaker-user/.config/sagemaker/config.yaml\n",
      "Uploaded to: s3://eeg-denoise/prepared\n"
     ]
    }
   ],
   "source": [
    "from sagemaker.s3 import S3Uploader\n",
    "\n",
    "s3_uri = S3Uploader.upload(\"eeg_prepared_dataset\", \"s3://eeg-denoise/prepared\")\n",
    "print(\"Uploaded to:\", s3_uri)\n"
   ]
  }
 ],
 "metadata": {
  "kernelspec": {
   "display_name": "Python 3 (ipykernel)",
   "language": "python",
   "name": "python3"
  },
  "language_info": {
   "codemirror_mode": {
    "name": "ipython",
    "version": 3
   },
   "file_extension": ".py",
   "mimetype": "text/x-python",
   "name": "python",
   "nbconvert_exporter": "python",
   "pygments_lexer": "ipython3",
   "version": "3.12.9"
  }
 },
 "nbformat": 4,
 "nbformat_minor": 5
}
